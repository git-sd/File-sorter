import ipywidgets as widgets
from IPython.display import display, clear_output
import os
import glob
import shutil

# Create the heading
heading = widgets.HTML("<h1>Portfolio</h1>")

# Create the buttons
button1 = widgets.Button(description="Display Files & Folders")
button2 = widgets.Button(description="Sort Files")
button6 = widgets.Button(description="Merge Folders & Sort")
button7 = widgets.Button(description="Move Sorted Folders")

# Create output widgets for each button's content
output1 = widgets.Output()
output2 = widgets.Output()
output6 = widgets.Output()
output7 = widgets.Output()

# Define function to display files and folders in the Downloads folder when Button 1 is clicked
def on_button1_click(b):
    with output1:
        clear_output()
        display_files_and_folders()

# Define function to sort files into folders based on their file extensions when Button 2 is clicked
def on_button2_click(b):
    with output2:
        clear_output()
        sort_files_by_extension()

# Define function to merge all folders into one and sort them when Button 6 is clicked
def on_button6_click(b):
    with output6:
        clear_output()
        merge_folders_and_sort()

# Define function to move sorted folders out of "Merged_Folders" back to Downloads when Button 7 is clicked
def on_button7_click(b):
    with output7:
        clear_output()
        move_sorted_folders()

# Attach button click events to their respective functions
button1.on_click(on_button1_click)
button2.on_click(on_button2_click)
button6.on_click(on_button6_click)
button7.on_click(on_button7_click)

# Set the file extensions to sort and display (you can add more extensions if needed)
extensions = ["txt", "pdf", "jpg", "png", "doc", "docx", "xls", "xlsx", "ppt", "pptx", "mp3", "mp4", "avi", "zip", "rar"]

# Function to display files and folders in the Downloads folder
def display_files_and_folders():
    downloads_path = os.path.expanduser("~/Downloads")  # Get the Downloads folder path
    files = [file for file in glob.glob(os.path.join(downloads_path, "*")) if os.path.isfile(file)]
    folders = [folder for folder in glob.glob(os.path.join(downloads_path, "*")) if os.path.isdir(folder)]
    if files:
        print("Files in Downloads folder:")
        for file in files:
            print(os.path.basename(file))
    else:
        print("No files found in Downloads folder.")
        
    if folders:
        print("\nFolders in Downloads folder:")
        for folder in folders:
            print(os.path.basename(folder))
    else:
        print("No folders found in Downloads folder.")

# Function to sort files into folders based on their file extensions
def sort_files_by_extension():
    downloads_path = os.path.expanduser("~/Downloads")  # Get the Downloads folder path
    files = [file for file in glob.glob(os.path.join(downloads_path, "*")) if os.path.isfile(file)]
    files_not_sorted = [file for file in files if not any(file.startswith(os.path.join(downloads_path, ext)) for ext in extensions)]
    if files_not_sorted:
        print("Sorting files into folders...")
        for file in files_not_sorted:
            _, ext = os.path.splitext(file)
            ext = ext[1:]  # Remove the leading dot from the extension
            folder_path = os.path.join(downloads_path, ext)
            os.makedirs(folder_path, exist_ok=True)
            dest_file = os.path.join(folder_path, os.path.basename(file))
            idx = 1
            while os.path.exists(dest_file):
                new_name = os.path.splitext(os.path.basename(file))[0] + f"_{idx}" + os.path.splitext(os.path.basename(file))[1]
                dest_file = os.path.join(folder_path, new_name)
                idx += 1
            try:
                shutil.move(file, dest_file)
            except Exception as e:
                print(f"Error moving file: {file}")
                print(f"Error message: {e}")
                continue
        print("Files sorted successfully!")
    else:
        print("No files found to sort.")

# Function to merge all folders into one and sort them
def merge_folders_and_sort():
    downloads_path = os.path.expanduser("~/Downloads")  # Get the Downloads folder path
    folders = [folder for folder in glob.glob(os.path.join(downloads_path, "*")) if os.path.isdir(folder)]
    if folders:
        target_folder = os.path.join(downloads_path, "Merged_Folders")
        os.makedirs(target_folder, exist_ok=True)
        for folder in folders:
            if folder != target_folder:
                folder_name = os.path.basename(folder)
                folder_files = glob.glob(os.path.join(folder, "*"))
                for file in folder_files:
                    dest_file = os.path.join(target_folder, folder_name + "_" + os.path.basename(file))
                    shutil.move(file, dest_file)
                shutil.rmtree(folder)  # Use shutil.rmtree() to remove folder along with its contents
        print("Folders merged successfully!")

        # Sort files inside the merged folder based on extensions
        merged_folder_contents = os.listdir(target_folder)
        for item in merged_folder_contents:
            item_path = os.path.join(target_folder, item)
            if os.path.isfile(item_path):
                _, ext = os.path.splitext(item)
                ext = ext[1:]  # Remove the leading dot from the extension
                folder_path = os.path.join(target_folder, ext)
                os.makedirs(folder_path, exist_ok=True)
                dest_file = os.path.join(folder_path, item)
                shutil.move(item_path, dest_file)
        print("Files inside the merged folder are sorted based on extensions.")

    else:
        print("No folders found to merge.")

# Function to move sorted folders out of "Merged_Folders" back to Downloads
def move_sorted_folders():
    downloads_path = os.path.expanduser("~/Downloads")  # Get the Downloads folder path
    merged_folder = os.path.join(downloads_path, "Merged_Folders")
    folders_to_move = [folder for folder in glob.glob(os.path.join(merged_folder, "*")) if os.path.isdir(folder)]
    if folders_to_move:
        for folder in folders_to_move:
            folder_name = os.path.basename(folder)
            folder_files = glob.glob(os.path.join(folder, "*"))
            for file in folder_files:
                dest_file = os.path.join(downloads_path, folder_name + "_" + os.path.basename(file))
                shutil.move(file, dest_file)
            shutil.rmtree(folder)  # Use shutil.rmtree() to remove folder along with its contents
        print("Sorted folders have been moved out of 'Merged_Folders' to Downloads.")
    else:
        print("No sorted folders found in 'Merged_Folders'.")

# Display the buttons and outputs
buttons = widgets.VBox([button1, button2, button6, button7])
outputs = widgets.VBox([output1, output2, output6, output7])
display(heading, buttons, outputs)
